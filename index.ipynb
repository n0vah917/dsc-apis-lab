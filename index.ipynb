{
 "cells": [
  {
   "cell_type": "markdown",
   "metadata": {},
   "source": [
    "# APIs - Cumulative Lab\n",
    "\n",
    "\n",
    "## Introduction \n",
    "\n",
    "We've seen how the Yelp API works and how to create basic visualizations using Folium. It's time to put those skills to work in order to create a working map! Taking things a step further, you'll also independently explore how to perform pagination in order to retrieve a full results set from the Yelp API.\n",
    "\n",
    "## Objectives\n",
    "\n",
    "You will be able to: \n",
    "\n",
    "* Practice using functions to organize your code\n",
    "* Use pagination to retrieve all results from an API query\n",
    "* Practice parsing data returned from an API query\n",
    "* Practice interpreting visualizations of a dataset\n",
    "* Create maps using Folium"
   ]
  },
  {
   "cell_type": "markdown",
   "metadata": {},
   "source": [
    "## Your Task: Query Yelp for All Businesses in a Category and Analyze the Results\n",
    "\n",
    "![restaurant counter with pizza](images/restaurant_counter.jpg)\n",
    "\n",
    "Photo by <a href=\"https://unsplash.com/@jordanmadrid?utm_source=unsplash&utm_medium=referral&utm_content=creditCopyText\">Jordan Madrid</a> on <a href=\"/s/photos/pizza-restaurant?utm_source=unsplash&utm_medium=referral&utm_content=creditCopyText\">Unsplash</a>"
   ]
  },
  {
   "cell_type": "markdown",
   "metadata": {},
   "source": [
    "### Overview\n",
    "\n",
    "You've now worked with some API calls, but we have yet to see how to retrieve a more complete dataset in a programmatic manner. In this lab, you will write a query of businesses on Yelp, then use *pagination* to retrieve all possible results for that query. Then you will create a summary of your findings, including a Folium map of the geographic locations of those businesses.\n",
    "\n",
    "### Technical Details\n",
    "\n",
    "Returning to the Yelp API, the [documentation](https://www.yelp.com/developers/documentation/v3/business_search) also provides us details regarding the **API limits**. These often include details about the number of requests a user is allowed to make within a specified time limit and the maximum number of results to be returned. In this case, we are told that any request has a **maximum of 50 results per request** and defaults to 20. Furthermore, any search will be limited to a **total of 1000 results**. To retrieve all 1000 of these results, we would have to page through the results piece by piece, retrieving 50 at a time. Processes such as these are often referred to as pagination.\n",
    "\n",
    "Also, be mindful of the **API** ***rate*** **limits**. You can only make **5000 requests per day** and are also can make requests too fast. Start prototyping small before running a loop that could be faulty. You can also use `time.sleep(n)` to add delays. For more details see https://www.yelp.com/developers/documentation/v3/rate_limiting.\n",
    "\n",
    "In this lab, you will define a search and then paginate over the results to retrieve all of the results. You'll then parse these responses as a list of dictionaries (for further exploration) and create a map using Folium to visualize the results geographically.\n",
    "\n",
    "### Requirements\n",
    "\n",
    "#### 1. Make the Initial Request\n",
    "\n",
    "Start by filling in your API key to make the initial request to the business search API. Investigate the structure of the response you get back and start figuring out how you will extract the relevant information.\n",
    "\n",
    "#### 2. Add Pagination\n",
    "\n",
    "Using loops and functions, collect the maximum number of results for your query from the API.\n",
    "\n",
    "#### 3. Perform Exploratory Analysis\n",
    "\n",
    "Interpret visualizations related to the price range, average rating, and number of reviews for all query results.\n",
    "\n",
    "#### 4. Create a Folium Map\n",
    "\n",
    "Using latitude and longitude data, plot the query results on an interactive map."
   ]
  },
  {
   "cell_type": "markdown",
   "metadata": {},
   "source": [
    "## 1. Make the Initial Request\n",
    "\n",
    "### Querying\n",
    "\n",
    "Start by making an initial request to the Yelp API. Your search must include at least 2 parameters: **term** and **location**. For example, you might search for pizza restaurants in NYC. The term and location is up to you but make the request below.\n",
    "\n",
    "Use the `requests` library ([documentation here](https://requests.readthedocs.io/en/master/user/quickstart/#make-a-request)).\n",
    "\n",
    "You'll also need an API key from Yelp. If you haven't done this already, go to the Yelp [Manage App page](https://www.yelp.com/developers/v3/manage_app) and create a new app (after making an account if you haven't already)."
   ]
  },
  {
   "cell_type": "code",
   "execution_count": 1,
   "metadata": {},
   "outputs": [
    {
     "data": {
      "text/plain": [
       "<Response [200]>"
      ]
     },
     "execution_count": 1,
     "metadata": {},
     "output_type": "execute_result"
    }
   ],
   "source": [
    "# Replace None with appropriate code\n",
    "\n",
    "# Import the requests library\n",
    "import requests\n",
    "\n",
    "# Get this from the \"Manage App\" page. Make sure you set them\n",
    "# back to None before pushing this to GitHub, since otherwise\n",
    "# your credentials will be compromised\n",
    "api_key = \"-WZeCFD--76Xh5p\"\n",
    "\n",
    "# These can be whatever you want! But the solution uses \"pizza\"\n",
    "# and \"New York NY\" if you want to compare your work directly\n",
    "term = \"pizza\"\n",
    "location = 'New York NY'\n",
    "\n",
    "# Set up params for request\n",
    "url = \"https://api.yelp.com/v3/businesses/search\"\n",
    "headers = {\n",
    "    \"Authorization\": \"Bearer {}\".format(api_key)\n",
    "}\n",
    "url_params = {\n",
    "    \"term\": term.replace(\" \", \"+\"),\n",
    "    \"location\": location.replace(\" \", \"+\")\n",
    "}\n",
    "\n",
    "# Make the request using requests.get, passing in\n",
    "# url, headers=headers, and params=url_params\n",
    "response = requests.get(url, headers=headers, params=url_params)\n",
    "\n",
    "# Confirm we got a 200 response\n",
    "response"
   ]
  },
  {
   "cell_type": "code",
   "execution_count": 2,
   "metadata": {},
   "outputs": [
    {
     "data": {
      "text/plain": [
       "dict_keys(['businesses', 'total', 'region'])"
      ]
     },
     "execution_count": 2,
     "metadata": {},
     "output_type": "execute_result"
    }
   ],
   "source": [
    "# Run this cell without changes\n",
    "\n",
    "# Get the response body in JSON format\n",
    "response_json = response.json()\n",
    "# View the keys\n",
    "response_json.keys()"
   ]
  },
  {
   "cell_type": "markdown",
   "metadata": {},
   "source": [
    "### Extracting Data\n",
    "\n",
    "Now, retrieve the value associated with the `'businesses'` key, and inspect its contents."
   ]
  },
  {
   "cell_type": "code",
   "execution_count": 3,
   "metadata": {},
   "outputs": [
    {
     "data": {
      "text/plain": [
       "[{'id': 'zj8Lq1T8KIC5zwFief15jg',\n",
       "  'alias': 'prince-street-pizza-new-york-2',\n",
       "  'name': 'Prince Street Pizza',\n",
       "  'image_url': 'https://s3-media3.fl.yelpcdn.com/bphoto/ZAukOyv530w4KjOHC5YY1w/o.jpg',\n",
       "  'is_closed': False,\n",
       "  'url': 'https://www.yelp.com/biz/prince-street-pizza-new-york-2?adjust_creative=Qdidhqql4EOHrTjlsoNPog&utm_campaign=yelp_api_v3&utm_medium=api_v3_business_search&utm_source=Qdidhqql4EOHrTjlsoNPog',\n",
       "  'review_count': 4011,\n",
       "  'categories': [{'alias': 'pizza', 'title': 'Pizza'},\n",
       "   {'alias': 'italian', 'title': 'Italian'}],\n",
       "  'rating': 4.5,\n",
       "  'coordinates': {'latitude': 40.72308755605564,\n",
       "   'longitude': -73.99453001177575},\n",
       "  'transactions': ['delivery', 'pickup'],\n",
       "  'price': '$',\n",
       "  'location': {'address1': '27 Prince St',\n",
       "   'address2': None,\n",
       "   'address3': '',\n",
       "   'city': 'New York',\n",
       "   'zip_code': '10012',\n",
       "   'country': 'US',\n",
       "   'state': 'NY',\n",
       "   'display_address': ['27 Prince St', 'New York, NY 10012']},\n",
       "  'phone': '+12129664100',\n",
       "  'display_phone': '(212) 966-4100',\n",
       "  'distance': 1961.8771417367063},\n",
       " {'id': 'ysqgdbSrezXgVwER2kQWKA',\n",
       "  'alias': 'julianas-brooklyn-3',\n",
       "  'name': \"Juliana's\",\n",
       "  'image_url': 'https://s3-media2.fl.yelpcdn.com/bphoto/clscwgOF9_Ecq-Rwsq7jyQ/o.jpg',\n",
       "  'is_closed': False,\n",
       "  'url': 'https://www.yelp.com/biz/julianas-brooklyn-3?adjust_creative=Qdidhqql4EOHrTjlsoNPog&utm_campaign=yelp_api_v3&utm_medium=api_v3_business_search&utm_source=Qdidhqql4EOHrTjlsoNPog',\n",
       "  'review_count': 2353,\n",
       "  'categories': [{'alias': 'pizza', 'title': 'Pizza'}],\n",
       "  'rating': 4.5,\n",
       "  'coordinates': {'latitude': 40.70274718768062,\n",
       "   'longitude': -73.99343490196397},\n",
       "  'transactions': ['delivery'],\n",
       "  'price': '$$',\n",
       "  'location': {'address1': '19 Old Fulton St',\n",
       "   'address2': '',\n",
       "   'address3': '',\n",
       "   'city': 'Brooklyn',\n",
       "   'zip_code': '11201',\n",
       "   'country': 'US',\n",
       "   'state': 'NY',\n",
       "   'display_address': ['19 Old Fulton St', 'Brooklyn, NY 11201']},\n",
       "  'phone': '+17185966700',\n",
       "  'display_phone': '(718) 596-6700',\n",
       "  'distance': 308.56984360837544}]"
      ]
     },
     "execution_count": 3,
     "metadata": {},
     "output_type": "execute_result"
    }
   ],
   "source": [
    "# Replace None with appropriate code\n",
    "\n",
    "# Retrieve the value from response_json\n",
    "businesses = response_json['businesses']\n",
    "\n",
    "# View the first 2 records\n",
    "businesses[:2]"
   ]
  },
  {
   "cell_type": "markdown",
   "metadata": {},
   "source": [
    "### Preparing Data\n",
    "\n",
    "Write a function `prepare_data` that takes in a list of dictionaries like `businesses` and returns a copy that has been prepared for analysis:\n",
    "\n",
    "1. The `coordinates` key-value pair has been converted into two separate key-value pairs, `latitude` and `longitude`\n",
    "2. All other key-value pairs except for `name`, `review_count`, `rating`, and `price` have been dropped\n",
    "3. All dictionaries missing one of the relevant keys or containing null values have been dropped\n",
    "\n",
    "In other words, the final keys for each dictionary should be `name`, `review_count`, `rating`, `price`, `latitude`, and `longitude`.\n",
    "\n",
    "Complete the function in the cell below:"
   ]
  },
  {
   "cell_type": "code",
   "execution_count": 7,
   "metadata": {},
   "outputs": [
    {
     "data": {
      "text/plain": [
       "[{'name': 'Prince Street Pizza',\n",
       "  'review_count': 4011,\n",
       "  'rating': 4.5,\n",
       "  'price': '$',\n",
       "  'latitude': 40.72308755605564,\n",
       "  'longitude': -73.99453001177575},\n",
       " {'name': \"Juliana's\",\n",
       "  'review_count': 2353,\n",
       "  'rating': 4.5,\n",
       "  'price': '$$',\n",
       "  'latitude': 40.70274718768062,\n",
       "  'longitude': -73.99343490196397},\n",
       " {'name': 'Rubirosa',\n",
       "  'review_count': 2466,\n",
       "  'rating': 4.5,\n",
       "  'price': '$$',\n",
       "  'latitude': 40.722766,\n",
       "  'longitude': -73.996233},\n",
       " {'name': \"Lombardi's Pizza\",\n",
       "  'review_count': 6198,\n",
       "  'rating': 4.0,\n",
       "  'price': '$$',\n",
       "  'latitude': 40.7215934960083,\n",
       "  'longitude': -73.9955956044561},\n",
       " {'name': 'Lucali',\n",
       "  'review_count': 1722,\n",
       "  'rating': 4.0,\n",
       "  'price': '$$',\n",
       "  'latitude': 40.6818,\n",
       "  'longitude': -74.00024}]"
      ]
     },
     "execution_count": 7,
     "metadata": {},
     "output_type": "execute_result"
    }
   ],
   "source": [
    "# Replace None with appropriate code\n",
    "\n",
    "def prepare_data(data_list):\n",
    "    \"\"\"\n",
    "    This function takes in a list of dictionaries and prepares it\n",
    "    for analysis\n",
    "    \"\"\"\n",
    "    \n",
    "    # Make a new list to hold results\n",
    "    results = []\n",
    "    \n",
    "    for business_data in data_list:\n",
    "    \n",
    "        # Make a new dictionary to hold prepared data for this business\n",
    "        prepared_data = {}\n",
    "        \n",
    "        # Extract name, review_count, rating, and price key-value pairs\n",
    "        # from business_data and add to prepared_data\n",
    "        # If a key is not present in business_data, add it to prepared_data\n",
    "        # with an associated value of None\n",
    "        for x in (\"name\",\"review_count\",\"rating\",\"price\"):\n",
    "            prepared_data[x]=business_data.get(x, None)  #looping over each dictionary and getting the specified columns in x, but returning none if it isn't valid\n",
    "        # Parse and add latitude and longitude columns\n",
    "        coordinates=business_data['coordinates']\n",
    "        \n",
    "        \n",
    "        prepared_data['latitude']=coordinates['latitude']\n",
    "        prepared_data['longitude']=coordinates['longitude']\n",
    "        \n",
    "        # Add to list if all values are present\n",
    "        if all(prepared_data.values()):\n",
    "            results.append(prepared_data)\n",
    "    \n",
    "    return results\n",
    "    \n",
    "# Test out function\n",
    "prepared_businesses = prepare_data(businesses)\n",
    "prepared_businesses[:5]"
   ]
  },
  {
   "cell_type": "markdown",
   "metadata": {},
   "source": [
    "Check that your function created the correct keys:"
   ]
  },
  {
   "cell_type": "code",
   "execution_count": 6,
   "metadata": {},
   "outputs": [],
   "source": [
    "# Run this cell without changes\n",
    "\n",
    "assert sorted(list(prepared_businesses[0].keys())) == ['latitude', 'longitude', 'name', 'price', 'rating', 'review_count']"
   ]
  },
  {
   "cell_type": "markdown",
   "metadata": {},
   "source": [
    "The following code will differ depending on your query, but we expect there to be 20 businesses in the original list, and potentially fewer in the prepared list (if any of them were missing data):"
   ]
  },
  {
   "cell_type": "code",
   "execution_count": 8,
   "metadata": {},
   "outputs": [
    {
     "name": "stdout",
     "output_type": "stream",
     "text": [
      "Original: 20\n",
      "Prepared: 20\n"
     ]
    }
   ],
   "source": [
    "# Run this cell without changes\n",
    "print(\"Original:\", len(businesses))\n",
    "print(\"Prepared:\", len(prepared_businesses))"
   ]
  },
  {
   "cell_type": "markdown",
   "metadata": {},
   "source": [
    "Great! We will reuse this function once we have retrieved the full dataset."
   ]
  },
  {
   "cell_type": "markdown",
   "metadata": {},
   "source": [
    "## 2. Add Pagination\n",
    "\n",
    "Now that you are able to extract information from one page of the response, let's figure out how to request as many pages as possible.\n",
    "\n",
    "### Determining the Total\n",
    "\n",
    "Depending on the number of total results for your query, you will either retrieve all of the results, or just the first 1000 (if there are more than 1000 total).\n",
    "\n",
    "We can find the total number of results using the `\"total\"` key:"
   ]
  },
  {
   "cell_type": "code",
   "execution_count": 10,
   "metadata": {},
   "outputs": [
    {
     "data": {
      "text/plain": [
       "240"
      ]
     },
     "execution_count": 10,
     "metadata": {},
     "output_type": "execute_result"
    }
   ],
   "source": [
    "# Run this cell without changes\n",
    "response_json[\"total\"]"
   ]
  },
  {
   "cell_type": "markdown",
   "metadata": {},
   "source": [
    "## (This is specific to the implementation of the Yelp API. Some APIs will just tell you that there are more pages, or will tell you the number of pages total, rather than the total number of results. If you're not sure, always check the documentation.)\n",
    "\n",
    "In the cell below, assign the variable `total` to either the value shown above (if it is less than 1000), or 1000."
   ]
  },
  {
   "cell_type": "code",
   "execution_count": 12,
   "metadata": {},
   "outputs": [],
   "source": [
    "# Replace None with appropriate code\n",
    "total = 240"
   ]
  },
  {
   "cell_type": "markdown",
   "metadata": {},
   "source": [
    "### Calculating the Offsets\n",
    "\n",
    "The documentation states in the parameters section:\n",
    "\n",
    "> **Name**: `limit`, **Type:** int, **Description:** Optional. Number of business results to return. By default, it will return 20. Maximum is 50.\n",
    "\n",
    "> **Name**: `offset`, **Type:** int, **Description:** Optional. Offset the list of returned business results by this amount.\n",
    "\n",
    "So, to get the most results with the fewest API calls we want to set a limit of 50 every time. If, say, we wanted to get 210 total results, that would mean:\n",
    "\n",
    "1. Offset of `0` (first 50 records)\n",
    "2. Offset of `50` (second 50 records)\n",
    "3. Offset of `100` (third 50 records)\n",
    "4. Offset of `150` (fourth 50 records)\n",
    "5. Offset of `200` (final 10 records)\n",
    "\n",
    "In the cell below, create a function `get_offsets` that takes in a total and returns a list of offsets for that total. You can assume that there is a limit of 50 every time.\n",
    "\n",
    "*Hint: you can use `range` ([documentation here](https://docs.python.org/3.3/library/stdtypes.html?highlight=range#range)) to do this in one line of code. Just make the returned result is a list.*"
   ]
  },
  {
   "cell_type": "code",
   "execution_count": 13,
   "metadata": {},
   "outputs": [],
   "source": [
    "# Replace None with appropriate code\n",
    "def get_offsets(total):\n",
    "    \"\"\"\n",
    "    Get a list of offsets needed to get all pages\n",
    "    of data up until the total\n",
    "    \"\"\"\n",
    "    return list(range(0,total,50))"
   ]
  },
  {
   "cell_type": "markdown",
   "metadata": {},
   "source": [
    "Check that your function works below:"
   ]
  },
  {
   "cell_type": "code",
   "execution_count": 14,
   "metadata": {},
   "outputs": [],
   "source": [
    "# Run this cell without changes\n",
    "\n",
    "assert get_offsets(200) == [0, 50, 100, 150]\n",
    "assert get_offsets(210) == [0, 50, 100, 150, 200]"
   ]
  },
  {
   "cell_type": "markdown",
   "metadata": {},
   "source": [
    "### Putting It All Together\n",
    "\n",
    "Recall that the following variable has already been declared for you:"
   ]
  },
  {
   "cell_type": "code",
   "execution_count": 15,
   "metadata": {},
   "outputs": [
    {
     "data": {
      "text/plain": [
       "{'term': 'pizza', 'location': 'New+York+NY'}"
      ]
     },
     "execution_count": 15,
     "metadata": {},
     "output_type": "execute_result"
    }
   ],
   "source": [
    "# Run this cell without changes\n",
    "url_params"
   ]
  },
  {
   "cell_type": "markdown",
   "metadata": {},
   "source": [
    "We'll go ahead and also specify that the limit should be 50 every time:"
   ]
  },
  {
   "cell_type": "code",
   "execution_count": 16,
   "metadata": {},
   "outputs": [],
   "source": [
    "# Run this cell without changes\n",
    "url_params[\"limit\"] = 50"
   ]
  },
  {
   "cell_type": "markdown",
   "metadata": {},
   "source": [
    "In order to modify the offset, you'll need to add it to `url_params` with the key `\"offset\"` and whatever value is needed.\n",
    "\n",
    "In the cell below, write code that:\n",
    "\n",
    "* Creates an empty list for the full prepared dataset\n",
    "* Loops over all of the offsets from `get_offsets` and makes an API call each time with the specified offset\n",
    "* Calls `prepare_data` to get a cleaned version of the result of each API call\n",
    "* Extends the full prepared dataset list with each query's prepared dataset"
   ]
  },
  {
   "cell_type": "code",
   "execution_count": 20,
   "metadata": {},
   "outputs": [
    {
     "data": {
      "text/plain": [
       "180"
      ]
     },
     "execution_count": 20,
     "metadata": {},
     "output_type": "execute_result"
    }
   ],
   "source": [
    "# Replace None with appropriate code\n",
    "\n",
    "# Create an empty list for the full prepared dataset\n",
    "full_dataset = []\n",
    "\n",
    "for offset in get_offsets(total):\n",
    "    # Add or update the \"offset\" key-value pair in url_params\n",
    "    url_params['offset']= offset\n",
    "    \n",
    "    # Make the query and get the response\n",
    "    response = requests.get(url, headers=headers, params=url_params)\n",
    "    \n",
    "    # Get the response body in JSON format\n",
    "    response_json = response.json()\n",
    "    \n",
    "    # Get the list of businesses from the response_json\n",
    "    #done in prior steps\n",
    "    # Call the prepare_data function to get a list of processed data\n",
    "    prepared_businesses = prepare_data(businesses)\n",
    "    \n",
    "    # Extend full_dataset with this list (don't append, or you'll get\n",
    "    # a list of lists instead of a flat list)\n",
    "    full_dataset.extend(prepared_businesses)\n",
    "\n",
    "# Check the length of the full dataset. It will be up to `total`,\n",
    "# potentially less if there were missing values\n",
    "len(full_dataset)"
   ]
  },
  {
   "cell_type": "markdown",
   "metadata": {},
   "source": [
    "This code may take up to a few minutes to run.\n",
    "\n",
    "If you get an error trying to get the response body in JSON format, try adding `time.sleep(1)` right after the `requests.get` line, so your code will sleep for 1 second between each API call."
   ]
  },
  {
   "cell_type": "markdown",
   "metadata": {},
   "source": [
    "## 3. Perform Exploratory Analysis\n",
    "\n",
    "Take the businesses from the previous question and do an initial exploratory analysis. We have provided some plots for you to interpret:"
   ]
  },
  {
   "cell_type": "code",
   "execution_count": 18,
   "metadata": {},
   "outputs": [
    {
     "data": {
      "image/png": "[encoded data removed]",
      "text/plain": [
       "<Figure size 1152x360 with 3 Axes>"
      ]
     },
     "metadata": {
      "needs_background": "light"
     },
     "output_type": "display_data"
    }
   ],
   "source": [
    "# Run this cell without changes\n",
    "from collections import Counter\n",
    "import matplotlib.pyplot as plt\n",
    "%matplotlib inline\n",
    "\n",
    "fig, (ax1, ax2, ax3) = plt.subplots(ncols=3, figsize=(16, 5))\n",
    "\n",
    "# Plot distribution of number of reviews\n",
    "all_review_counts = [x[\"review_count\"] for x in full_dataset]\n",
    "ax1.hist(all_review_counts)\n",
    "ax1.set_title(\"Review Count Distribution\")\n",
    "ax1.set_xlabel(\"Number of Reviews\")\n",
    "ax1.set_ylabel(\"Number of Businesses\")\n",
    "\n",
    "# Plot rating distribution\n",
    "all_ratings = [x[\"rating\"] for x in full_dataset]\n",
    "rating_counter = Counter(all_ratings)\n",
    "rating_keys = sorted(rating_counter.keys())\n",
    "ax2.bar(rating_keys, [rating_counter[key] for key in rating_keys])\n",
    "ax2.set_title(\"Rating Distribution\")\n",
    "ax2.set_xlabel(\"Rating\")\n",
    "ax2.set_ylabel(\"Number of Businesses\")\n",
    "\n",
    "# Plot price distribution\n",
    "all_prices = [x[\"price\"].replace(\"$\", r\"\\$\") for x in full_dataset]\n",
    "price_counter = Counter(all_prices)\n",
    "price_keys = sorted(price_counter.keys())\n",
    "ax3.bar(price_keys, [price_counter[key] for key in price_keys])\n",
    "ax3.set_title(\"Price Distribution\")\n",
    "ax3.set_xlabel(\"Price Category\")\n",
    "ax3.set_ylabel(\"Number of Businesses\");"
   ]
  },
  {
   "cell_type": "markdown",
   "metadata": {},
   "source": [
    "Describe the distributions displayed above and interpret them in the context of your query. (Your answer may differ from the solution branch depending on your query.)"
   ]
  },
  {
   "cell_type": "code",
   "execution_count": 21,
   "metadata": {},
   "outputs": [
    {
     "data": {
      "text/plain": [
       "'\\nmost pizza businesses have under 1500 reviews. they also seem to be rated quite fairly, as NYC pizza generally seems to be pretty good. more pizza places are listed in the 2 dollar sign range, which is surprising, since pizza tends to be pretty cheap.\\n\\n'"
      ]
     },
     "execution_count": 21,
     "metadata": {},
     "output_type": "execute_result"
    }
   ],
   "source": [
    "# Replace None with appropriate text\n",
    "\"\"\"\n",
    "most pizza businesses have under 1500 reviews. they also seem to be rated quite fairly, as NYC pizza generally seems to be pretty good. more pizza places are listed in the 2 dollar sign range, which is surprising, since pizza tends to be pretty cheap.\n",
    "\n",
    "\"\"\""
   ]
  },
  {
   "cell_type": "markdown",
   "metadata": {},
   "source": [
    "In the cell below, we also plot the rating distributions by price. In this setup, a price of one dollar sign is \"lower price\" and everything else is \"higher price\"."
   ]
  },
  {
   "cell_type": "code",
   "execution_count": 22,
   "metadata": {},
   "outputs": [
    {
     "data": {
      "image/png": "[encoded data removed]",
      "text/plain": [
       "<Figure size 432x288 with 1 Axes>"
      ]
     },
     "metadata": {
      "needs_background": "light"
     },
     "output_type": "display_data"
    }
   ],
   "source": [
    "# Run this cell without changes\n",
    "\n",
    "higher_price = []\n",
    "lower_price = []\n",
    "for row in full_dataset:\n",
    "    if row[\"price\"] == \"$\":\n",
    "        lower_price.append(row[\"rating\"])\n",
    "    else:\n",
    "        higher_price.append(row[\"rating\"])\n",
    "        \n",
    "fig, ax = plt.subplots()\n",
    "\n",
    "ax.hist([higher_price, lower_price], label=[\"higher price\", \"lower price\"], density=True)\n",
    "\n",
    "ax.legend();"
   ]
  },
  {
   "cell_type": "markdown",
   "metadata": {},
   "source": [
    "Is a higher price associated with a higher rating? (No need for any additional math/statistics, just interpret what you see in the plot.)"
   ]
  },
  {
   "cell_type": "code",
   "execution_count": 25,
   "metadata": {},
   "outputs": [
    {
     "data": {
      "text/plain": [
       "'\\nhigher price does seem to have more entries within the 4 star range, but lower price range have a greater distribution among the star ratings, which indicates some cheaper restaurants could be a hit or a miss. a higher price range is slightly more likely to have a better perceived experience \\n'"
      ]
     },
     "execution_count": 25,
     "metadata": {},
     "output_type": "execute_result"
    }
   ],
   "source": [
    "# Replace None with appropriate text\n",
    "\"\"\"\n",
    "higher price does seem to have more entries within the 4 star range, but lower price range have a greater distribution among the star ratings, which indicates some cheaper restaurants could be a hit or a miss. a higher price range is slightly more likely to have a better perceived experience \n",
    "\"\"\""
   ]
  },
  {
   "cell_type": "markdown",
   "metadata": {},
   "source": [
    "Finally, let's look at ratings vs. review counts:"
   ]
  },
  {
   "cell_type": "code",
   "execution_count": 26,
   "metadata": {},
   "outputs": [
    {
     "data": {
      "image/png": "[encoded data removed]",
      "text/plain": [
       "<Figure size 1152x360 with 1 Axes>"
      ]
     },
     "metadata": {
      "needs_background": "light"
     },
     "output_type": "display_data"
    }
   ],
   "source": [
    "# Run this cell without changes\n",
    "fig, ax = plt.subplots(figsize=(16,5))\n",
    "\n",
    "ax.scatter(all_review_counts, all_ratings, alpha=0.2)\n",
    "ax.set_xlabel(\"Number of Reviews\")\n",
    "ax.set_ylabel(\"Rating\")\n",
    "# \"zoom in\" to a subset of review counts\n",
    "ax.set_xlim(left=0, right=1000);"
   ]
  },
  {
   "cell_type": "markdown",
   "metadata": {},
   "source": [
    "Is a higher number of reviews associated with a higher rating?"
   ]
  },
  {
   "cell_type": "code",
   "execution_count": 27,
   "metadata": {},
   "outputs": [
    {
     "data": {
      "text/plain": [
       "\"\\nthe spread between both categories tells me that there isn't a direct correlation between number of reviews and star rating. some businesses could have several reviews, but some outlier 1-star reviews that bring hte overall rating down. conversely, some newer businesses could have little to no reviews, which easily place them on either the higher/lower ends of the review spectrum.\\n\""
      ]
     },
     "execution_count": 27,
     "metadata": {},
     "output_type": "execute_result"
    }
   ],
   "source": [
    "# Replace None with appropriate text\n",
    "\"\"\"\n",
    "the spread between both categories tells me that there isn't a direct correlation between number of reviews and star rating. some businesses could have several reviews, but some outlier 1-star reviews that bring hte overall rating down. conversely, some newer businesses could have little to no reviews, which easily place them on either the higher/lower ends of the review spectrum.\n",
    "\"\"\""
   ]
  },
  {
   "cell_type": "markdown",
   "metadata": {},
   "source": [
    "## 4. Create a Folium Map\n",
    "\n",
    "Make a map using Folium of the businesses you retrieved. Be sure to also add popups to the markers giving some basic information such as name, rating and price.\n",
    "\n",
    "You can center the map around the latitude and longitude of the first item in `full_dataset`."
   ]
  },
  {
   "cell_type": "code",
   "execution_count": 36,
   "metadata": {},
   "outputs": [
    {
     "data": {
      "text/html": [
       "<div style=\"width:100%;\"><div style=\"position:relative;width:100%;height:0;padding-bottom:60%;\"><span style=\"color:#565656\">Make this Notebook Trusted to load map: File -> Trust Notebook</span><iframe src=\"about:blank\" style=\"position:absolute;width:100%;height:100%;left:0;top:0;border:none !important;\" data-html=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 onload=\"this.contentDocument.open();this.contentDocument.write(atob(this.getAttribute('data-html')));this.contentDocument.close();\" allowfullscreen webkitallowfullscreen mozallowfullscreen></iframe></div></div>"
      ],
      "text/plain": [
       "<folium.folium.Map at 0x2ae17fce0d0>"
      ]
     },
     "execution_count": 36,
     "metadata": {},
     "output_type": "execute_result"
    }
   ],
   "source": [
    "# Replace None with appropriate code\n",
    "\n",
    "# Import the library\n",
    "import folium\n",
    "\n",
    "# Set up center latitude and longitude\n",
    "center_lat = full_dataset[0]['latitude']\n",
    "center_long = full_dataset[0]['longitude']\n",
    "\n",
    "# Initialize map with center lat and long\n",
    "yelp_map = folium.Map([center_lat, center_long], zoom_start=12)\n",
    "\n",
    "# Adjust this limit to see more or fewer businesses\n",
    "limit=100\n",
    "\n",
    "for business in full_dataset[:limit]:\n",
    "    # Extract information about business\n",
    "    lat = business['latitude']\n",
    "    long = business['longitude']\n",
    "    name = business['name']\n",
    "    rating = business['rating']\n",
    "    price = business['price']\n",
    "    details = \"{}\\nPrice: {} Rating:{}\".format(name,price,rating)\n",
    "    \n",
    "    # Create popup with relevant details\n",
    "    popup = folium.Popup(details, parse_html=True)\n",
    "    \n",
    "    # Create marker with relevant lat/long and popup\n",
    "    marker = folium.Marker(location=[lat,long], popup=popup)\n",
    "    \n",
    "    marker.add_to(yelp_map)\n",
    "    \n",
    "yelp_map"
   ]
  },
  {
   "cell_type": "markdown",
   "metadata": {},
   "source": [
    "## Summary\n",
    "\n",
    "Nice work! In this lab, you've made multiple API calls to Yelp in order to paginate through a results set, performing some basic exploratory analysis and then creating a nice interactive map to display the results using Folium! Well done!"
   ]
  }
 ],
 "metadata": {
  "kernelspec": {
   "display_name": "Python 3",
   "language": "python",
   "name": "python3"
  },
  "language_info": {
   "codemirror_mode": {
    "name": "ipython",
    "version": 3
   },
   "file_extension": ".py",
   "mimetype": "text/x-python",
   "name": "python",
   "nbconvert_exporter": "python",
   "pygments_lexer": "ipython3",
   "version": "3.8.5"
  },
  "toc": {
   "base_numbering": 1,
   "nav_menu": {},
   "number_sections": true,
   "sideBar": true,
   "skip_h1_title": false,
   "title_cell": "Table of Contents",
   "title_sidebar": "Contents",
   "toc_cell": false,
   "toc_position": {},
   "toc_section_display": true,
   "toc_window_display": false
  }
 },
 "nbformat": 4,
 "nbformat_minor": 2
}
